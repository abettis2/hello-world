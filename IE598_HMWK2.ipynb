{
 "cells": [
  {
   "cell_type": "code",
   "execution_count": 1,
   "metadata": {},
   "outputs": [],
   "source": [
    "import pandas as pd\n",
    "import matplotlib.pyplot as plt\n",
    "from sklearn.neighbors import KNeighborsClassifier\n",
    "from sklearn.model_selection import train_test_split\n",
    "from sklearn.metrics import accuracy_score\n",
    "from sklearn.tree import DecisionTreeClassifier"
   ]
  },
  {
   "cell_type": "code",
   "execution_count": 2,
   "metadata": {},
   "outputs": [],
   "source": [
    "#read in treasury data\n",
    "df = pd.read_csv(r'C:\\Users\\Adam\\Desktop\\UIUC\\Fall 19\\Machine Learning\\Treasury Squeeze test - DS1.csv')"
   ]
  },
  {
   "cell_type": "code",
   "execution_count": 3,
   "metadata": {},
   "outputs": [],
   "source": [
    "#seperate into features\n",
    "X = df.iloc[:,0:9]\n",
    "# and labels\n",
    "y= df.iloc[:,9]"
   ]
  },
  {
   "cell_type": "code",
   "execution_count": 4,
   "metadata": {
    "scrolled": true
   },
   "outputs": [],
   "source": [
    "#seperate into training and test data\n",
    "X_train, X_test, y_train, y_test= train_test_split(X,y, test_size=0.3, random_state=21,\n",
    "                                                  stratify=y)"
   ]
  },
  {
   "cell_type": "code",
   "execution_count": 5,
   "metadata": {
    "scrolled": true
   },
   "outputs": [
    {
     "name": "stdout",
     "output_type": "stream",
     "text": [
      "14  neighbors provided the highest accuracy score of:  0.685185\n"
     ]
    }
   ],
   "source": [
    "k_range = range (2,26)\n",
    "scores = []\n",
    "for k in k_range:\n",
    "    #loop to try various numbers of neighboring data\n",
    "    knn = KNeighborsClassifier(n_neighbors = k)\n",
    "    knn.fit(X_train,y_train)\n",
    "    #get label predictions\n",
    "    y_pred = knn.predict(X_test)\n",
    "    #compare predictions to test labels\n",
    "    scores.append(accuracy_score(y_test,y_pred))\n",
    "    \n",
    "highest = max(scores)\n",
    "spot = (scores.index(highest)+1)\n",
    "\n",
    "print(spot, \" neighbors provided the highest accuracy score of: \"\n",
    "      ,round(highest,6))"
   ]
  },
  {
   "cell_type": "code",
   "execution_count": 6,
   "metadata": {},
   "outputs": [
    {
     "data": {
      "text/plain": [
       "Text(0.5, 0, '# of neighbors')"
      ]
     },
     "execution_count": 6,
     "metadata": {},
     "output_type": "execute_result"
    },
    {
     "data": {
      "image/png": "[encoded data removed]",
      "text/plain": [
       "<Figure size 432x288 with 1 Axes>"
      ]
     },
     "metadata": {
      "needs_background": "light"
     },
     "output_type": "display_data"
    }
   ],
   "source": [
    "#use matplotlib to graph various n_neighbors\n",
    "#and corresponding accuracy score\n",
    "\n",
    "plt.plot(k_range,scores,'g^')\n",
    "plt.ylabel('accuracy score')\n",
    "plt.xlabel('# of neighbors')"
   ]
  },
  {
   "cell_type": "code",
   "execution_count": 7,
   "metadata": {},
   "outputs": [
    {
     "name": "stdout",
     "output_type": "stream",
     "text": [
      "a depth of  14   provided the highest accuracy score of:  0.685185\n"
     ]
    }
   ],
   "source": [
    "#Decision Tree\n",
    "\n",
    "i_range = range(2,26)\n",
    "scores_dt =[]\n",
    "\n",
    "for i in i_range:\n",
    "    # use i to try various depth limits\n",
    "    dt = DecisionTreeClassifier(max_depth = i, random_state = 1 )\n",
    "    dt.fit(X_train, y_train)\n",
    "    #get label predictions\n",
    "    y_pred_dt = dt.predict(X_test)\n",
    "    #compare label predictions to actual labels\n",
    "    scores_dt.append(accuracy_score(y_test,y_pred_dt))\n",
    "\n",
    "\n",
    "highest_dt = max(scores)\n",
    "spot_dt = (scores.index(highest_dt)+1)\n",
    "\n",
    "print(\"a depth of \" ,spot_dt, \"  provided the highest accuracy score of: \"\n",
    "      ,round(highest_dt,6))\n",
    "                     \n",
    "    \n"
   ]
  },
  {
   "cell_type": "code",
   "execution_count": 8,
   "metadata": {},
   "outputs": [
    {
     "name": "stdout",
     "output_type": "stream",
     "text": [
      "My name is Adam Bettis\n",
      "My NetID is: abettis2\n",
      "I hereby certify that I have read the University policy on Academic Integrity and that I am not in violation.\n"
     ]
    }
   ],
   "source": [
    "print(\"My name is Adam Bettis\")\n",
    "print(\"My NetID is: abettis2\")\n",
    "print(\"I hereby certify that I have read the University policy on Academic Integrity and that I am not in violation.\")"
   ]
  },
  {
   "cell_type": "code",
   "execution_count": null,
   "metadata": {},
   "outputs": [],
   "source": [
    "\n",
    "    "
   ]
  },
  {
   "cell_type": "code",
   "execution_count": null,
   "metadata": {},
   "outputs": [],
   "source": []
  },
  {
   "cell_type": "code",
   "execution_count": null,
   "metadata": {},
   "outputs": [],
   "source": []
  },
  {
   "cell_type": "code",
   "execution_count": null,
   "metadata": {},
   "outputs": [],
   "source": []
  },
  {
   "cell_type": "code",
   "execution_count": null,
   "metadata": {},
   "outputs": [],
   "source": []
  },
  {
   "cell_type": "code",
   "execution_count": null,
   "metadata": {},
   "outputs": [],
   "source": []
  },
  {
   "cell_type": "code",
   "execution_count": null,
   "metadata": {},
   "outputs": [],
   "source": []
  }
 ],
 "metadata": {
  "kernelspec": {
   "display_name": "Python 3",
   "language": "python",
   "name": "python3"
  },
  "language_info": {
   "codemirror_mode": {
    "name": "ipython",
    "version": 3
   },
   "file_extension": ".py",
   "mimetype": "text/x-python",
   "name": "python",
   "nbconvert_exporter": "python",
   "pygments_lexer": "ipython3",
   "version": "3.7.3"
  }
 },
 "nbformat": 4,
 "nbformat_minor": 4
}
