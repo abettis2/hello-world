{
 "cells": [
  {
   "cell_type": "markdown",
   "metadata": {},
   "source": [
    "## EDA"
   ]
  },
  {
   "cell_type": "code",
   "execution_count": null,
   "metadata": {},
   "outputs": [],
   "source": [
    "import pandas as pd\n",
    "import numpy as np\n",
    "from sklearn.model_selection import train_test_split\n",
    "from sklearn.preprocessing import StandardScaler\n",
    "import matplotlib.pyplot as plt\n",
    "from sklearn.decomposition import PCA\n",
    "from sklearn.linear_model import LinearRegression\n",
    "from sklearn.metrics import r2_score\n",
    "from sklearn import svm\n",
    "from sklearn import metrics\n",
    "import scipy.stats as stats\n",
    "from sklearn.metrics import mean_squared_error\n",
    "\n",
    "df = pd.read_csv(r\"C:\\Users\\Adam\\Desktop\\hw5_data.csv\")\n",
    "\n",
    "df.drop('Date', axis=1, inplace=True)\n",
    "df.head()"
   ]
  },
  {
   "cell_type": "code",
   "execution_count": null,
   "metadata": {},
   "outputs": [],
   "source": [
    "print(\"Number of rows: \" ,len(df.index))\n",
    "print(\"Number of columns: \", len(df.columns))\n",
    "df.info()"
   ]
  },
  {
   "cell_type": "code",
   "execution_count": null,
   "metadata": {},
   "outputs": [],
   "source": [
    "df.dropna(inplace=True)\n",
    "df.info()"
   ]
  },
  {
   "cell_type": "code",
   "execution_count": null,
   "metadata": {},
   "outputs": [],
   "source": [
    "from scipy import stats\n",
    "import matplotlib.pyplot as plt\n",
    "\n",
    "stats.probplot(df[\"Adj_Close\"], dist=\"norm\", plot=plt)\n",
    "plt.title(\"Q-Q plot\")\n",
    "plt.ylabel(\"Adj_Close\")\n",
    "plt.show()"
   ]
  },
  {
   "cell_type": "code",
   "execution_count": null,
   "metadata": {},
   "outputs": [],
   "source": [
    "corMat = pd.DataFrame(df.corr())\n",
    "\n",
    "plt.pcolor(corMat)\n",
    "plt.show()"
   ]
  },
  {
   "cell_type": "code",
   "execution_count": null,
   "metadata": {},
   "outputs": [],
   "source": [
    "X, y = df.iloc[:, 1:-1], df.iloc[:, -1]\n",
    "X_train, X_test, y_train, y_test = train_test_split(X, y, test_size=0.3,random_state = 0) \n",
    "\n",
    "# standardize the features\n",
    "sc = StandardScaler()\n",
    "X_train_std = sc.fit_transform(X_train)\n",
    "X_test_std = sc.transform(X_test)"
   ]
  },
  {
   "cell_type": "code",
   "execution_count": null,
   "metadata": {},
   "outputs": [],
   "source": [
    "cov_mat = np.cov(X_train_std.T)\n",
    "eigen_vals,eigen_vecs = np.linalg.eig(cov_mat)\n",
    "print(\"Eigen Values:  \\n \", eigen_vals)\n"
   ]
  },
  {
   "cell_type": "code",
   "execution_count": null,
   "metadata": {},
   "outputs": [],
   "source": [
    "tot = sum(eigen_vals)\n",
    "var_exp = [(i / tot) for i in sorted(eigen_vals,reverse = True)]\n",
    "cum_var_exp = np.cumsum(var_exp)\n",
    "\n",
    "plt.bar(range(2,31), var_exp, alpha=0.5, align='center',label='individual explained variance')\n",
    "plt.step(range(2,31),cum_var_exp, where = 'mid',label = 'cumulative explained variance')\n",
    "plt.ylabel('Explained variance ratio')\n",
    "plt.xlabel('Principal component index')\n",
    "plt.legend(loc='best')\n",
    "plt.show"
   ]
  },
  {
   "cell_type": "code",
   "execution_count": null,
   "metadata": {},
   "outputs": [],
   "source": [
    "#make list of eigenvalue, eigenvector tuples\n",
    "eigen_pairs = [(np.abs(eigen_vals[i]),eigen_vecs[:,i])for i in range(len(eigen_vals))]\n",
    "\n",
    "#sort the tuples from high to low\n",
    "eigen_pairs.sort(key = lambda k: k[0],reverse = True)"
   ]
  },
  {
   "cell_type": "code",
   "execution_count": null,
   "metadata": {},
   "outputs": [],
   "source": [
    "w = np.hstack((eigen_pairs[0][1][:, np.newaxis],eigen_pairs[1][1][:, np.newaxis]))\n",
    "\n",
    "print('Matrix w: \\n', w)"
   ]
  },
  {
   "cell_type": "code",
   "execution_count": null,
   "metadata": {
    "scrolled": true
   },
   "outputs": [],
   "source": [
    "X_train_std[0].dot(w)\n",
    "X_train_pca = X_train_std.dot(w)\n",
    "colors = ['r','b','g']\n",
    "markers = ['s','x','o']\n",
    "\n",
    "for l,c,m in zip(np.unique(y_train),colors,markers):\n",
    "    plt.scatter(X_train_pca[y_train==l, 0],\n",
    "    X_train_pca[y_train==l, 1], c=c, label=l, marker=m)\n",
    "\n",
    "plt.xlabel('PC 1')\n",
    "plt.ylabel('PC 2')\n",
    "plt.legend(loc = 'lower left')\n",
    "plt.show"
   ]
  },
  {
   "cell_type": "markdown",
   "metadata": {},
   "source": [
    "## Linear Regression\n"
   ]
  },
  {
   "cell_type": "code",
   "execution_count": null,
   "metadata": {},
   "outputs": [],
   "source": [
    "reg = LinearRegression()\n",
    "reg.fit(X_train, y_train)\n",
    "\n",
    "lr_y_test_pred = reg.predict(X_test)\n",
    "lr_y_train_pred = reg.predict(X_train)\n",
    "\n",
    "score_train = r2_score(y_train, lr_y_train_pred)\n",
    "score_test = r2_score(y_test, lr_y_test_pred)\n",
    "\n",
    "print(\"R-Squared score for training: \", score_train)\n",
    "print(\"R-Squared score for test: \", score_test)"
   ]
  },
  {
   "cell_type": "markdown",
   "metadata": {},
   "source": [
    "## SVR Regressor"
   ]
  },
  {
   "cell_type": "code",
   "execution_count": null,
   "metadata": {},
   "outputs": [],
   "source": [
    "clf_svr = svm.SVR(kernel='linear')\n",
    "clf_svr.fit(X_train,y_train)\n",
    "\n",
    "SVM_y_pred_train = clf_svr.predict(X_train)\n",
    "SVM_y_pred_test = clf_svr.predict(X_test)\n",
    "\n",
    "SVM_score_train = r2_score(y_train, SVM_y_pred_train)\n",
    "SVM_score_test = r2_score(y_test, SVM_y_pred_test)\n",
    "\n",
    "print(\"R-Squared score for training: \", SVM_score_train)\n",
    "print(\"R-Squared score for test: \", SVM_score_test)"
   ]
  },
  {
   "cell_type": "markdown",
   "metadata": {},
   "source": [
    "## PCA Analysis - Explained variance for all components"
   ]
  },
  {
   "cell_type": "code",
   "execution_count": null,
   "metadata": {},
   "outputs": [],
   "source": [
    "pca = PCA(n_components=None)\n",
    "X_train_pca = pca.fit_transform(X_train_std)\n",
    "print(pca.explained_variance_ratio_)\n",
    "plt.bar(range(2,31), pca.explained_variance_ratio_, alpha=0.5, align='center',label='individual explained variance')\n",
    "cum_var = np.cumsum(pca.explained_variance_ratio_)\n",
    "plt.step(range(2,31), cum_var, where='mid',label='cumulative explained variance')\n",
    "plt.ylabel('Explained variance ratio')\n",
    "plt.xlabel('Principal components')\n",
    "plt.legend(loc='best')\n",
    "plt.show()"
   ]
  },
  {
   "cell_type": "markdown",
   "metadata": {},
   "source": [
    "## PCA Analysis - 3 components "
   ]
  },
  {
   "cell_type": "code",
   "execution_count": null,
   "metadata": {},
   "outputs": [],
   "source": [
    "pca2 = PCA(n_components=3)\n",
    "X_train_c3 = pca2.fit_transform(X_train_std)\n",
    "features = range(pca2.n_components_)\n",
    "plt.bar(features, pca2.explained_variance_ratio_)\n",
    "plt.xticks(features)\n",
    "plt.ylabel('variance')\n",
    "plt.xlabel('PCA feature')\n",
    "plt.show()"
   ]
  },
  {
   "cell_type": "code",
   "execution_count": null,
   "metadata": {},
   "outputs": [],
   "source": [
    "cov_mat = np.cov(X_train_pca.T)\n",
    "eigen_vals, eigen_vecs = np.linalg.eig(cov_mat)\n",
    "print('\\nEigenvalues \\n%s' % eigen_vals)\n",
    "tot = sum(eigen_vals)\n",
    "var_exp = [(i / tot) for i in sorted(eigen_vals, reverse=True)]\n",
    "cum_var_exp = np.cumsum(var_exp)\n",
    "plt.bar(range(1,4), var_exp, alpha=0.5, align='center', label='var_exp')\n",
    "plt.step(range(1,4), cum_var_exp, where='mid', label='cumulative var_exp')\n",
    "plt.ylabel('Explained variance ratio')\n",
    "plt.xlabel('Principal components')\n",
    "plt.legend(loc='upper right')\n",
    "print(\"Plot for individual and cumulative explained variance for n_components=3\")\n",
    "plt.show()"
   ]
  },
  {
   "cell_type": "markdown",
   "metadata": {},
   "source": [
    "## Linear and SVR models after dimension reduction"
   ]
  },
  {
   "cell_type": "code",
   "execution_count": null,
   "metadata": {},
   "outputs": [],
   "source": [
    "X_test_pca_c3 = pca2.transform(X_test_std)\n",
    "reg.fit(X_train_c3,y_train)\n",
    "\n",
    "y_test_pred = reg.predict(X_test_pca_c3)\n",
    "y_train_pred = reg.predict(X_train_c3)\n",
    "\n",
    "score_train = r2_score(y_train, lr_y_train_pred)\n",
    "score_test = r2_score(y_test, lr_y_test_pred)\n",
    "\n",
    "print(\"R-Squared score for training: \", score_train)\n",
    "print(\"R-Squared score for test: \", score_test)"
   ]
  },
  {
   "cell_type": "code",
   "execution_count": null,
   "metadata": {},
   "outputs": [],
   "source": [
    "clf_svr = svm.SVR(kernel='linear')\n",
    "clf_svr.fit(X_train_c3,y_train)\n",
    "\n",
    "SVM_y_pred_train = clf_svr.predict(X_train_c3)\n",
    "SVM_y_pred_test = clf_svr.predict(X_test_pca_c3)\n",
    "\n",
    "SVM_score_train = r2_score(y_train, SVM_y_pred_train)\n",
    "SVM_score_test = r2_score(y_test, SVM_y_pred_test)\n",
    "\n",
    "print(\"R-Squared score for training: \", SVM_score_train)\n",
    "print(\"R-Squared score for test: \", SVM_score_test)"
   ]
  },
  {
   "cell_type": "code",
   "execution_count": null,
   "metadata": {},
   "outputs": [],
   "source": [
    "print(\"My name is Adam Bettis\")\n",
    "print(\"My NetID is: abettis2\")\n",
    "print(\"I hereby certify that I have read the University policy on Academic Integrity and that I am not in violation.\")"
   ]
  },
  {
   "cell_type": "code",
   "execution_count": null,
   "metadata": {},
   "outputs": [],
   "source": []
  }
 ],
 "metadata": {
  "kernelspec": {
   "display_name": "Python 3",
   "language": "python",
   "name": "python3"
  },
  "language_info": {
   "codemirror_mode": {
    "name": "ipython",
    "version": 3
   },
   "file_extension": ".py",
   "mimetype": "text/x-python",
   "name": "python",
   "nbconvert_exporter": "python",
   "pygments_lexer": "ipython3",
   "version": "3.7.3"
  }
 },
 "nbformat": 4,
 "nbformat_minor": 2
}
